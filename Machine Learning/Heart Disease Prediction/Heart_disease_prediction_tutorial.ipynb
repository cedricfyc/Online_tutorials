{
 "cells": [
  {
   "cell_type": "code",
   "execution_count": 1,
   "id": "58159c37-5750-438c-81f0-ec5aca78e47d",
   "metadata": {},
   "outputs": [],
   "source": [
    "import pandas as pd\n",
    "import pylab as pl\n",
    "import numpy as np\n",
    "import scipy.optimize as opt\n",
    "import statsmodels.api as sm\n",
    "from sklearn import preprocessing\n",
    "# makes graphs inline\n",
    "'exec(% matplotlib inline)'\n",
    "import matplotlib.pyplot as plt\n",
    "import matplotlib.mlab as mlab\n",
    "import seaborn as sns"
   ]
  },
  {
   "cell_type": "code",
   "execution_count": 3,
   "id": "256df263-979f-4f33-acf0-cd0adc7d54e7",
   "metadata": {},
   "outputs": [],
   "source": [
    "# dataset\n",
    "disease_df = pd.read_csv(\"framingham.csv\")\n",
    "# education will not be used as feature\n",
    "disease_df.drop(['education'], inplace = True, axis = 1)\n",
    "\n",
    "# male -> Sex_male\n",
    "disease_df.rename(columns ={'male':'Sex_male'}, inplace = True)"
   ]
  },
  {
   "cell_type": "code",
   "execution_count": 4,
   "id": "994e122e-3b9e-4a47-8fcb-d8e8c0f24666",
   "metadata": {},
   "outputs": [
    {
     "name": "stdout",
     "output_type": "stream",
     "text": [
      "   Sex_male  age  currentSmoker  cigsPerDay  BPMeds  prevalentStroke  \\\n",
      "0         1   39              0         0.0     0.0                0   \n",
      "1         0   46              0         0.0     0.0                0   \n",
      "2         1   48              1        20.0     0.0                0   \n",
      "3         0   61              1        30.0     0.0                0   \n",
      "4         0   46              1        23.0     0.0                0   \n",
      "\n",
      "   prevalentHyp  diabetes  totChol  sysBP  diaBP    BMI  heartRate  glucose  \\\n",
      "0             0         0    195.0  106.0   70.0  26.97       80.0     77.0   \n",
      "1             0         0    250.0  121.0   81.0  28.73       95.0     76.0   \n",
      "2             0         0    245.0  127.5   80.0  25.34       75.0     70.0   \n",
      "3             1         0    225.0  150.0   95.0  28.58       65.0    103.0   \n",
      "4             0         0    285.0  130.0   84.0  23.10       85.0     85.0   \n",
      "\n",
      "   TenYearCHD  \n",
      "0           0  \n",
      "1           0  \n",
      "2           0  \n",
      "3           1  \n",
      "4           0   (3751, 15)\n",
      "TenYearCHD\n",
      "0    3179\n",
      "1     572\n",
      "Name: count, dtype: int64\n"
     ]
    }
   ],
   "source": [
    "# removing NaN / NULL values\n",
    "disease_df.dropna(axis = 0, inplace = True)\n",
    "print(disease_df.head(), disease_df.shape)\n",
    "print(disease_df.TenYearCHD.value_counts())"
   ]
  },
  {
   "cell_type": "code",
   "execution_count": 5,
   "id": "a35cc48e-784a-4bff-9440-432e7214cad7",
   "metadata": {},
   "outputs": [
    {
     "name": "stdout",
     "output_type": "stream",
     "text": [
      "<class 'pandas.core.frame.DataFrame'>\n",
      "Index: 3751 entries, 0 to 4239\n",
      "Data columns (total 15 columns):\n",
      " #   Column           Non-Null Count  Dtype  \n",
      "---  ------           --------------  -----  \n",
      " 0   Sex_male         3751 non-null   int64  \n",
      " 1   age              3751 non-null   int64  \n",
      " 2   currentSmoker    3751 non-null   int64  \n",
      " 3   cigsPerDay       3751 non-null   float64\n",
      " 4   BPMeds           3751 non-null   float64\n",
      " 5   prevalentStroke  3751 non-null   int64  \n",
      " 6   prevalentHyp     3751 non-null   int64  \n",
      " 7   diabetes         3751 non-null   int64  \n",
      " 8   totChol          3751 non-null   float64\n",
      " 9   sysBP            3751 non-null   float64\n",
      " 10  diaBP            3751 non-null   float64\n",
      " 11  BMI              3751 non-null   float64\n",
      " 12  heartRate        3751 non-null   float64\n",
      " 13  glucose          3751 non-null   float64\n",
      " 14  TenYearCHD       3751 non-null   int64  \n",
      "dtypes: float64(8), int64(7)\n",
      "memory usage: 468.9 KB\n"
     ]
    }
   ],
   "source": [
    "disease_df.info()"
   ]
  },
  {
   "cell_type": "code",
   "execution_count": 6,
   "id": "778a0388-ff81-4049-98f7-7c837f9db755",
   "metadata": {},
   "outputs": [
    {
     "name": "stdout",
     "output_type": "stream",
     "text": [
      "Train set: (2625, 6) (2625,)\n",
      "Test set: (1126, 6) (1126,)\n"
     ]
    }
   ],
   "source": [
    "# splitting dataset into training set and test set\n",
    "X = np.asarray(disease_df[['age', 'Sex_male', 'cigsPerDay', \n",
    "                           'totChol', 'sysBP', 'glucose']])\n",
    "y = np.asarray(disease_df['TenYearCHD'])\n",
    "\n",
    "# normalization of the dataset\n",
    "X = preprocessing.StandardScaler().fit(X).transform(X)\n",
    "\n",
    "# Train-and-Test -Split\n",
    "from sklearn.model_selection import train_test_split\n",
    "X_train, X_test, y_train, y_test = train_test_split( \n",
    "        X, y, test_size = 0.3, random_state = 4)\n",
    "\n",
    "print ('Train set:', X_train.shape,  y_train.shape)\n",
    "print ('Test set:', X_test.shape,  y_test.shape)"
   ]
  },
  {
   "cell_type": "code",
   "execution_count": 11,
   "id": "0052573e-3a2a-41b5-8f50-c87385d13eef",
   "metadata": {},
   "outputs": [
    {
     "data": {
      "image/png": "[encoded data removed]",
      "text/plain": [
       "<Figure size 700x500 with 1 Axes>"
      ]
     },
     "metadata": {},
     "output_type": "display_data"
    }
   ],
   "source": [
    "# visualising no. of patients affected with CHD\n",
    "plt.figure(figsize=(7, 5))\n",
    "sns.countplot(x='TenYearCHD',\n",
    "              data=disease_df)\n",
    "plt.show()"
   ]
  },
  {
   "cell_type": "markdown",
   "id": "fad90959-5ab3-4d43-b0d3-98e5942cee56",
   "metadata": {},
   "source": [
    "Logistic Regression algorithm is built on training and predictions are made."
   ]
  },
  {
   "cell_type": "code",
   "execution_count": 42,
   "id": "bfebbdd7-9ca7-40c4-a756-ca97a348a9f2",
   "metadata": {},
   "outputs": [],
   "source": [
    "from sklearn.linear_model import LogisticRegression\n",
    "logreg = LogisticRegression()\n",
    "logreg.fit(X_train, y_train)\n",
    "y_pred = logreg.predict(X_test)\n",
    "y_pred_proba = logreg.predict_proba(X_test)[::,1]"
   ]
  },
  {
   "cell_type": "code",
   "execution_count": 13,
   "id": "d5b5a65c-d161-4442-8ecf-af9429c5c4e7",
   "metadata": {},
   "outputs": [
    {
     "name": "stdout",
     "output_type": "stream",
     "text": [
      "Accuracy of the model is = 0.8490230905861457\n"
     ]
    }
   ],
   "source": [
    "# Evaluation and accuracy\n",
    "from sklearn.metrics import accuracy_score\n",
    "print('Accuracy of the model is =', \n",
    "      accuracy_score(y_test, y_pred))"
   ]
  },
  {
   "cell_type": "code",
   "execution_count": 17,
   "id": "d0f33349-abdc-4a16-8938-9e3ff79e5153",
   "metadata": {},
   "outputs": [
    {
     "data": {
      "image/png": "[encoded data removed]",
      "text/plain": [
       "<Figure size 800x500 with 2 Axes>"
      ]
     },
     "metadata": {},
     "output_type": "display_data"
    },
    {
     "name": "stdout",
     "output_type": "stream",
     "text": [
      "The details for confusion matrix is =\n",
      "              precision    recall  f1-score   support\n",
      "\n",
      "           0       0.85      0.99      0.92       951\n",
      "           1       0.61      0.08      0.14       175\n",
      "\n",
      "    accuracy                           0.85      1126\n",
      "   macro avg       0.73      0.54      0.53      1126\n",
      "weighted avg       0.82      0.85      0.80      1126\n",
      "\n"
     ]
    }
   ],
   "source": [
    "# Confusion matrix \n",
    "from sklearn.metrics import confusion_matrix, classification_report\n",
    "\n",
    "cm = confusion_matrix(y_test, y_pred)\n",
    "conf_matrix = pd.DataFrame(data = cm, \n",
    "                           columns = ['Predicted:0', 'Predicted:1'], \n",
    "                           index =['Actual:0', 'Actual:1'])\n",
    "\n",
    "plt.figure(figsize = (8, 5))\n",
    "sns.heatmap(conf_matrix, annot = True, fmt = 'd', cmap = \"Reds\")\n",
    "\n",
    "plt.show()\n",
    "print('The details for confusion matrix is =')\n",
    "print (classification_report(y_test, y_pred))"
   ]
  },
  {
   "cell_type": "code",
   "execution_count": 45,
   "id": "235bc2d5-011a-40f5-986b-10826e3e18d9",
   "metadata": {},
   "outputs": [
    {
     "data": {
      "image/png": "[encoded data removed]",
      "text/plain": [
       "<Figure size 640x480 with 1 Axes>"
      ]
     },
     "metadata": {},
     "output_type": "display_data"
    }
   ],
   "source": [
    "from sklearn import metrics \n",
    "fpr, tpr, thresholds = metrics.roc_curve(y_test, y_pred_proba)\n",
    "auc = metrics.roc_auc_score(y_test, y_pred_proba)\n",
    "\n",
    "plt.plot(fpr,tpr, label=\"AUC=\"+str(auc))\n",
    "plt.ylabel('True Positive Rate')\n",
    "plt.xlabel('False Positive Rate')\n",
    "plt.legend(loc=4)\n",
    "plt.show()"
   ]
  },
  {
   "cell_type": "markdown",
   "id": "c86878ba-277a-4d5b-b534-dd139bff1754",
   "metadata": {},
   "source": [
    "AUC ROC indicates that the logistic regression did a satisfactory job in the prediction.\n",
    "**AUC ROC < 0.5 is bad, AUC ROC > 0.5 is good, AUC ROC = 0.5 means random values are generated.**"
   ]
  },
  {
   "cell_type": "code",
   "execution_count": 62,
   "id": "12179b86-625c-4b26-8a7f-63ba810357eb",
   "metadata": {},
   "outputs": [
    {
     "name": "stdout",
     "output_type": "stream",
     "text": [
      "XGBClassifier(base_score=None, booster=None, callbacks=None,\n",
      "              colsample_bylevel=None, colsample_bynode=None,\n",
      "              colsample_bytree=None, device=None, early_stopping_rounds=None,\n",
      "              enable_categorical=False, eval_metric=None, feature_types=None,\n",
      "              gamma=None, grow_policy=None, importance_type=None,\n",
      "              interaction_constraints=None, learning_rate=None, max_bin=None,\n",
      "              max_cat_threshold=None, max_cat_to_onehot=None,\n",
      "              max_delta_step=None, max_depth=None, max_leaves=None,\n",
      "              min_child_weight=None, missing=nan, monotone_constraints=None,\n",
      "              multi_strategy=None, n_estimators=None, n_jobs=None,\n",
      "              num_parallel_tree=None, random_state=None, ...) : \n",
      "Training Accuracy :  0.9393221829791659\n",
      "Validation Accuracy :  0.554763406940063\n",
      "SVC() : \n",
      "Training Accuracy :  0.5385939881245789\n",
      "Validation Accuracy :  0.5150398077211957\n"
     ]
    }
   ],
   "source": [
    "from sklearn.svm import SVC\n",
    "from xgboost import XGBClassifier\n",
    "models = [XGBClassifier(), SVC(kernel='rbf')]\n",
    "\n",
    "for i in range(len(models)):\n",
    "    models[i].fit(X_train, y_train)\n",
    "\n",
    "    print(f'{models[i]} : ')\n",
    "    print('Training Accuracy : ', metrics.roc_auc_score(y_train, models[i].predict(X_train)))\n",
    "    print('Validation Accuracy : ', metrics.roc_auc_score(y_test, models[i].predict(X_test)))"
   ]
  },
  {
   "cell_type": "code",
   "execution_count": null,
   "id": "f155974a-96e3-4038-b4be-d798fcfb9656",
   "metadata": {},
   "outputs": [],
   "source": []
  }
 ],
 "metadata": {
  "kernelspec": {
   "display_name": "Python 3 (ipykernel)",
   "language": "python",
   "name": "python3"
  },
  "language_info": {
   "codemirror_mode": {
    "name": "ipython",
    "version": 3
   },
   "file_extension": ".py",
   "mimetype": "text/x-python",
   "name": "python",
   "nbconvert_exporter": "python",
   "pygments_lexer": "ipython3",
   "version": "3.12.3"
  }
 },
 "nbformat": 4,
 "nbformat_minor": 5
}
