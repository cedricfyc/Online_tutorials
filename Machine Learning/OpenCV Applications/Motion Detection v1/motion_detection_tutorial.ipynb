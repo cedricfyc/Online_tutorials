{
 "cells": [
  {
   "cell_type": "markdown",
   "metadata": {},
   "source": [
    "# Basic motion detection and tracking with Python and OpenCV\n",
    "[OpenCV Python Tutorial For Beginners 24 - Motion Detection and Tracking Using Opencv Contours](https://youtu.be/MkcUgPhOlP8?si=AG1Ip28ASIpqB0WQ)"
   ]
  },
  {
   "cell_type": "code",
   "execution_count": 5,
   "metadata": {},
   "outputs": [],
   "source": [
    "import cv2\n",
    "import numpy as np"
   ]
  },
  {
   "cell_type": "code",
   "execution_count": 6,
   "metadata": {},
   "outputs": [],
   "source": [
    "test = 0"
   ]
  },
  {
   "cell_type": "markdown",
   "metadata": {},
   "source": [
    "## Test Run\n",
    "Below is a test run to see the motion detection capabilities of OpenCV.\n",
    "Using the PC's main webcam, the contours are highlighted under OpenCV and displayed in red.\n",
    "For the moment, any movement is detected, so even the slightest movement is shown in red.\n",
    "The goal of the motion detection script is to highlight the motion with a rectangle containing the moving object (of minimum size)."
   ]
  },
  {
   "cell_type": "code",
   "execution_count": 7,
   "metadata": {},
   "outputs": [],
   "source": [
    "if test:    \n",
    "    capt = cv2.VideoCapture(0)\n",
    "\n",
    "    ret, frame1 = capt.read()\n",
    "    ret, frame2 = capt.read()\n",
    "\n",
    "    while True:\n",
    "        # determine difference between two frames\n",
    "        diff = cv2.absdiff(frame1, frame2)\n",
    "\n",
    "        # only grayscale images/frames can be processed\n",
    "        # for contours by findCountours()\n",
    "        gray = cv2.cvtColor(diff, cv2.COLOR_BGR2GRAY)\n",
    "\n",
    "        # reduce noise using blur\n",
    "        blur = cv2.GaussianBlur(gray, (7,7), 0)\n",
    "\n",
    "        # thresholding helps with finding contours\n",
    "        _, thresh = cv2.threshold(blur, 20, 255, cv2.THRESH_BINARY)\n",
    "\n",
    "        dilated = cv2.dilate(thresh, None, iterations=3)\n",
    "        contours, _ = cv2.findContours(dilated, cv2.RETR_TREE, cv2.CHAIN_APPROX_SIMPLE)\n",
    "\n",
    "        # contour ID = -1 includes all contours\n",
    "        cv2.drawContours(frame1, contours, -1, (0, 0, 255), 2)\n",
    "\n",
    "        cv2.imshow(\"Feed\", frame1)\n",
    "        frame1 = frame2\n",
    "        ret, frame2 = capt.read()\n",
    "        \n",
    "        # Enter key 'q' to break the loop \n",
    "        if cv2.waitKey(1) & 0xFF == ord('q'): \n",
    "            break\n",
    "\n",
    "    capt.release() \n",
    "    cv2.destroyAllWindows() "
   ]
  },
  {
   "cell_type": "code",
   "execution_count": 13,
   "metadata": {},
   "outputs": [],
   "source": [
    "if not test:   \n",
    "    capt = cv2.VideoCapture(0)\n",
    "\n",
    "    ret, frame1 = capt.read()\n",
    "    ret, frame2 = capt.read()\n",
    "\n",
    "    while True:\n",
    "        # determine difference between two frames\n",
    "        diff = cv2.absdiff(frame1, frame2)\n",
    "\n",
    "        # only grayscale images/frames can be processed\n",
    "        # for contours by findCountours()\n",
    "        gray = cv2.cvtColor(diff, cv2.COLOR_BGR2GRAY)\n",
    "\n",
    "        # reduce noise using blur\n",
    "        blur = cv2.GaussianBlur(gray, (7,7), 0)\n",
    "\n",
    "        # thresholding helps with finding contours\n",
    "        _, thresh = cv2.threshold(blur, 20, 255, cv2.THRESH_BINARY)\n",
    "\n",
    "        dilated = cv2.dilate(thresh, None, iterations=3)\n",
    "        contours, _ = cv2.findContours(dilated, cv2.RETR_TREE, cv2.CHAIN_APPROX_SIMPLE)\n",
    "\n",
    "        if (len(contours) == 0):\n",
    "            cv2.putText(frame1, \"Status: No movement\", (10, 50), 1, 3, (0, 255, 0))\n",
    "\n",
    "        for contour in contours:\n",
    "            (x, y, w, h) = cv2.boundingRect(contour)\n",
    "\n",
    "            if cv2.contourArea(contour) < 1000:\n",
    "                continue\n",
    "            cv2.rectangle(frame1, (x, y), (x+w, y+h), (0, 0, 255), 2)\n",
    "            cv2.putText(frame1, \"Status: Movement\", (10, 50), 1, 3, (0, 255, 0))\n",
    "        # contour ID = -1 includes all contours\n",
    "        #cv2.drawContours(frame1, contours, -1, (0, 0, 255), 2)\n",
    "\n",
    "        cv2.imshow(\"Feed\", frame1)\n",
    "        frame1 = frame2\n",
    "        ret, frame2 = capt.read()\n",
    "        \n",
    "        # Enter key 'q' to break the loop \n",
    "        if cv2.waitKey(1) & 0xFF == ord('q'): \n",
    "            break\n",
    "\n",
    "    capt.release() \n",
    "    cv2.destroyAllWindows() "
   ]
  }
 ],
 "metadata": {
  "kernelspec": {
   "display_name": "base",
   "language": "python",
   "name": "python3"
  },
  "language_info": {
   "codemirror_mode": {
    "name": "ipython",
    "version": 3
   },
   "file_extension": ".py",
   "mimetype": "text/x-python",
   "name": "python",
   "nbconvert_exporter": "python",
   "pygments_lexer": "ipython3",
   "version": "3.12.3"
  }
 },
 "nbformat": 4,
 "nbformat_minor": 2
}
