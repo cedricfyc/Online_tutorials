{
 "cells": [
  {
   "cell_type": "markdown",
   "metadata": {},
   "source": [
    "# Color Detection in Python with OpenCV\n",
    "[Link to Tutorial](https://henrydangprg.com/2016/06/26/color-detection-in-python-with-opencv/)"
   ]
  },
  {
   "cell_type": "markdown",
   "metadata": {},
   "source": [
    "## How Does Color Work on a Computer?\n",
    "On a computer, color can be represented in many formats. However, in this tutorial, we will be strictly concerned with only BGR (Blue, Green, Red) and HSV (Hue Saturation Value).\n",
    "\n",
    "With BGR, a pixel is represented by 3 parameters, blue, green, and red. Each parameter usually has a value from 0 – 255. For example, a pure blue pixel on your computer screen would have a B value of 255, a G value of 0, and a R value of 0. Your computer would read this and say, “Ah. This pixel is 255 parts blue, 0 parts green, and 0 parts red.”\n",
    "\n",
    "With HSV, a pixel is also represented by 3 parameters, but it is instead Hue, Saturation and Value.\n",
    "\n",
    "Unlike BGR, HSV does not use the primary color to represent a pixel. Instead, it uses hue, which is the color or shade of the pixel.\n",
    "\n",
    "The saturation is the intensity of the color. A saturation of 0 is white, and a saturation of 255 is maximum intensity. Another way to think about it is to imagine saturation as the colorfulness of a certain pixel. Value is the simplest of the three, as it is just how bright or dark the color is."
   ]
  },
  {
   "cell_type": "markdown",
   "metadata": {},
   "source": [
    "## Converting BGR to HSV\n",
    "- #### use cv2.cvtColor(color, cv2.COLOR_BGR2HSV)\n",
    "- #### determine the hue\n",
    "- #### bounds are in the form given below\n"
   ]
  },
  {
   "cell_type": "code",
   "execution_count": 8,
   "metadata": {},
   "outputs": [],
   "source": [
    "import sys\n",
    "import numpy as np\n",
    "import cv2"
   ]
  },
  {
   "cell_type": "code",
   "execution_count": 9,
   "metadata": {},
   "outputs": [],
   "source": [
    "def convBGR2HSV(blue, green, red, offset=5):\n",
    "    color = np.uint8([[[blue, green, red]]])\n",
    "    hsv_color = cv2.cvtColor(color, cv2.COLOR_BGR2HSV)\n",
    "    \n",
    "    hue = hsv_color[0][0][0]\n",
    "    bounds = [[hue - offset, 100, 100], [hue + offset, 255, 255]]\n",
    "    return bounds"
   ]
  },
  {
   "cell_type": "markdown",
   "metadata": {},
   "source": [
    "#### The lower range is the minimum shade of colour that will be detected, and the upper range is the maximum shade of colour that will be detected."
   ]
  },
  {
   "cell_type": "code",
   "execution_count": 10,
   "metadata": {},
   "outputs": [
    {
     "name": "stdout",
     "output_type": "stream",
     "text": [
      "[ 23 100 100]\n",
      "[ 33 255 255]\n"
     ]
    }
   ],
   "source": [
    "lower_range, upper_range = np.array(convBGR2HSV(0, 242, 255))\n",
    "print(lower_range)\n",
    "print(upper_range)"
   ]
  },
  {
   "cell_type": "markdown",
   "metadata": {},
   "source": [
    "#### A mask is simply a specific part of the image. In this case, we are checking through the hsv image, and checking for colors that are between the lower-range and upper-range. The areas that match will be set to the mask variable."
   ]
  },
  {
   "cell_type": "code",
   "execution_count": 11,
   "metadata": {},
   "outputs": [],
   "source": [
    "img = cv2.imread('images/colour_detection_pic.png')\n",
    "hsv = cv2.cvtColor(img, cv2.COLOR_BGR2HSV)\n",
    "\n",
    "mask = cv2.inRange(hsv, lower_range, upper_range)\n",
    "\n",
    "cv2.imshow('mask', mask)\n",
    "cv2.imshow('image', img)\n",
    "\n",
    "while True:\n",
    "    # exits the loop when the Esc key \n",
    "    # (with ASCII value 27) is pressed\n",
    "    k = cv2.waitKey(0)\n",
    "    if (k == 27):\n",
    "        break\n",
    "\n",
    "cv2.destroyAllWindows()"
   ]
  },
  {
   "cell_type": "markdown",
   "metadata": {},
   "source": [
    "To explain colour tracking below"
   ]
  },
  {
   "cell_type": "code",
   "execution_count": null,
   "metadata": {},
   "outputs": [],
   "source": [
    "img = cv2.imread('images/ref_pic.png')\n",
    "img = cv2.resize(img, (640, 720), \n",
    "               interpolation = cv2.INTER_CUBIC)\n",
    "lower_range, upper_range = np.array(convBGR2HSV(135, 106, 7))\n",
    "\n",
    "hsv = cv2.cvtColor(img, cv2.COLOR_BGR2HSV)\n",
    "mask = cv2.inRange(hsv, lower_range, upper_range)\n",
    "\n",
    "cv2.imshow('mask', mask)\n",
    "cv2.imshow('image', img)\n",
    "\n",
    "while True:\n",
    "    # exits the loop when the Esc key \n",
    "    # (with ASCII value 27) is pressed\n",
    "    k = cv2.waitKey(0)\n",
    "    if (k == 27):\n",
    "        break\n",
    "\n",
    "cv2.destroyAllWindows()"
   ]
  },
  {
   "cell_type": "code",
   "execution_count": 7,
   "metadata": {},
   "outputs": [],
   "source": [
    "cap = cv2.VideoCapture(0)\n",
    "lower_range1, upper_range1 = np.array(convBGR2HSV(135, 106, 7))\n",
    "\n",
    "while(True):\n",
    "    ret, frame = cap.read()\n",
    "    hsv = cv2.cvtColor(frame, cv2.COLOR_BGR2HSV)\n",
    "    mask = cv2.inRange(hsv, lower_range, upper_range)\n",
    "    #gray = cv2.cvtColor(frame, cv2.COLOR_BGR2GRAY)\n",
    "    \n",
    "    contours, _ = cv2.findContours(mask, cv2.RETR_EXTERNAL, cv2.CHAIN_APPROX_SIMPLE)\n",
    "\n",
    "    # Loop through all detected contours\n",
    "    for contour in contours:\n",
    "    # Get the bounding rectangle around each contour\n",
    "        x, y, w, h = cv2.boundingRect(contour)\n",
    "\n",
    "        if cv2.contourArea(contour) > 200:\n",
    "            cv2.rectangle(frame, (x, y), (x + w, y + h), (0, 255, 0), 2)\n",
    "\n",
    "    cv2.imshow('frame', frame)\n",
    "    #cv2.imshow('gray', gray)\n",
    "    if cv2.waitKey(1) & 0xFF == ord('q'):\n",
    "        break\n",
    "    \n",
    "cap.release()\n",
    "cv2.destroyAllWindows()"
   ]
  }
 ],
 "metadata": {
  "kernelspec": {
   "display_name": "base",
   "language": "python",
   "name": "python3"
  },
  "language_info": {
   "codemirror_mode": {
    "name": "ipython",
    "version": 3
   },
   "file_extension": ".py",
   "mimetype": "text/x-python",
   "name": "python",
   "nbconvert_exporter": "python",
   "pygments_lexer": "ipython3",
   "version": "3.12.3"
  }
 },
 "nbformat": 4,
 "nbformat_minor": 2
}
