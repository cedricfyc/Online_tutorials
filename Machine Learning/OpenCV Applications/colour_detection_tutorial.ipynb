{
 "cells": [
  {
   "cell_type": "markdown",
   "metadata": {},
   "source": [
    "# Color Detection in Python with OpenCV\n",
    "[Link to Tutorial](https://henrydangprg.com/2016/06/26/color-detection-in-python-with-opencv/)"
   ]
  },
  {
   "cell_type": "markdown",
   "metadata": {},
   "source": [
    "## How Does Color Work on a Computer?\n",
    "On a computer, color can be represented in many formats. However, in this tutorial, we will be strictly concerned with only BGR (Blue, Green, Red) and HSV (Hue Saturation Value).\n",
    "\n",
    "With BGR, a pixel is represented by 3 parameters, blue, green, and red. Each parameter usually has a value from 0 – 255. For example, a pure blue pixel on your computer screen would have a B value of 255, a G value of 0, and a R value of 0. Your computer would read this and say, “Ah. This pixel is 255 parts blue, 0 parts green, and 0 parts red.”\n",
    "\n",
    "With HSV, a pixel is also represented by 3 parameters, but it is instead Hue, Saturation and Value.\n",
    "\n",
    "Unlike BGR, HSV does not use the primary color to represent a pixel. Instead, it uses hue, which is the color or shade of the pixel.\n",
    "\n",
    "The saturation is the intensity of the color. A saturation of 0 is white, and a saturation of 255 is maximum intensity. Another way to think about it is to imagine saturation as the colorfulness of a certain pixel. Value is the simplest of the three, as it is just how bright or dark the color is."
   ]
  },
  {
   "cell_type": "markdown",
   "metadata": {},
   "source": [
    "## Converting BGR to HSV\n",
    "- #### use cv2.cvtColor(color, cv2.COLOR_BGR2HSV)\n",
    "- #### determine the hue\n",
    "- #### bounds are in the form given below\n"
   ]
  },
  {
   "cell_type": "code",
   "execution_count": null,
   "metadata": {},
   "outputs": [],
   "source": [
    "import sys\n",
    "import numpy as np\n",
    "import cv2\n",
    "\n",
    "def convBGR2HSV(blue, green, red):\n",
    "    color = np.uint8([[[blue, green, red]]])\n",
    "    hsv_color = cv2.cvtColor(color, cv2.COLOR_BGR2HSV)\n",
    "    \n",
    "    hue = hsv_color[0][0][0]\n",
    "    \n",
    "    bounds = [[hue - 10, 100, 100], [hue + 10, 255, 255]]\n",
    "    return bounds"
   ]
  },
  {
   "cell_type": "markdown",
   "metadata": {},
   "source": [
    "#### The lower range is the minimum shade of colour that will be detected, and the upper range is the maximum shade of colour that will be detected."
   ]
  },
  {
   "cell_type": "code",
   "execution_count": 8,
   "metadata": {},
   "outputs": [
    {
     "name": "stdout",
     "output_type": "stream",
     "text": [
      "[ 18 100 100]\n",
      "[ 38 255 255]\n"
     ]
    }
   ],
   "source": [
    "bounds = convBGR2HSV(0, 242, 255)\n",
    "lower_range = np.array(bounds[0], dtype=np.uint8)\n",
    "upper_range = np.array(bounds[1], dtype=np.uint8)\n",
    "print(lower_range)\n",
    "print(upper_range)"
   ]
  },
  {
   "cell_type": "markdown",
   "metadata": {},
   "source": [
    "#### A mask is simply a specific part of the image. In this case, we are checking through the hsv image, and checking for colors that are between the lower-range and upper-range. The areas that match will be set to the mask variable."
   ]
  },
  {
   "cell_type": "code",
   "execution_count": 9,
   "metadata": {},
   "outputs": [],
   "source": [
    "img = cv2.imread('colour_detection_pic.png')\n",
    "hsv = cv2.cvtColor(img, cv2.COLOR_BGR2HSV)\n",
    "\n",
    "mask = cv2.inRange(hsv, lower_range, upper_range)\n",
    "\n",
    "cv2.imshow('mask', mask)\n",
    "cv2.imshow('image', img)\n",
    "\n",
    "while True:\n",
    "    # exits the loop when the Esc key \n",
    "    # (with ASCII value 27) is pressed\n",
    "    k = cv2.waitKey(0)\n",
    "    if (k == 27):\n",
    "        break\n",
    "\n",
    "cv2.destroyAllWindows()"
   ]
  }
 ],
 "metadata": {
  "kernelspec": {
   "display_name": "base",
   "language": "python",
   "name": "python3"
  },
  "language_info": {
   "codemirror_mode": {
    "name": "ipython",
    "version": 3
   },
   "file_extension": ".py",
   "mimetype": "text/x-python",
   "name": "python",
   "nbconvert_exporter": "python",
   "pygments_lexer": "ipython3",
   "version": "3.12.3"
  }
 },
 "nbformat": 4,
 "nbformat_minor": 2
}
